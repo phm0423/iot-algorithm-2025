{
 "cells": [
  {
   "cell_type": "markdown",
   "metadata": {},
   "source": [
    "### binary tree 이진트리\n",
    "<img src='https://i.namu.wiki/i/T3H6K3nRvVrmlNiUGidBWIhzxe71xl7kziRETH2LXlJlG7oZ4JiI9pttXEBcifVIOsSWsrR9rdIUGBkMfK_rfB4hy9MO_QBLgdGLSHEiERYUkUu4O1ev7e0vlnLybmYy5_3C6fO4CS76-gSEDw3Pww.webp'\n",
    "width = '400'>\n",
    "- 나무를 거꾸로 뒤집은 모양의 자료구조\n",
    "- 이진트리가 구현이 쉽다.\n",
    "- 이진트리 왼쪽, 오른쪽노드를 가지고 아래로 레벨을 내려가는 형태\n",
    "- 이중 연결리스트 노드와 모양 동일\n",
    "\n"
   ]
  },
  {
   "cell_type": "markdown",
   "metadata": {},
   "source": [
    "- 트리노드 클래스"
   ]
  },
  {
   "cell_type": "code",
   "execution_count": 1,
   "metadata": {},
   "outputs": [],
   "source": [
    "class TreeNode():\n",
    "    def __init__(self):\n",
    "        self.left = None\n",
    "        self.data = None\n",
    "        self.right = None"
   ]
  },
  {
   "cell_type": "markdown",
   "metadata": {},
   "source": [
    "- 루트노드(level 0) 생성"
   ]
  },
  {
   "cell_type": "code",
   "execution_count": 2,
   "metadata": {},
   "outputs": [],
   "source": [
    "node1 = TreeNode()\n",
    "node1.data = '강지'"
   ]
  },
  {
   "cell_type": "markdown",
   "metadata": {},
   "source": [
    "- 자식노드(level 1) 생성"
   ]
  },
  {
   "cell_type": "code",
   "execution_count": null,
   "metadata": {},
   "outputs": [],
   "source": [
    "node2 = TreeNode()\n",
    "node2.data = '칸나'\n",
    "node1.left = node2\n",
    "# node1.left 변수에 node2을 집어넣는다는 뜻 -> 연결한다라고 개념적으로 설명\n",
    "\n",
    "node3 = TreeNode()\n",
    "node3.data = '유니'\n",
    "node1.right = node3"
   ]
  },
  {
   "cell_type": "markdown",
   "metadata": {},
   "source": [
    "- 리포노드(level2) 생성"
   ]
  },
  {
   "cell_type": "code",
   "execution_count": 4,
   "metadata": {},
   "outputs": [],
   "source": [
    "node4 = TreeNode()\n",
    "node4.data = '히나'\n",
    "node2.left = node4\n",
    "\n",
    "node5 = TreeNode()\n",
    "node5.data = '타비'\n",
    "node2.right = node5\n",
    "\n",
    "node6 = TreeNode()\n",
    "node6.data = '리제'\n",
    "node3.left = node6\n",
    "\n",
    "node7 = TreeNode()\n",
    "node7.data = '마시로'\n",
    "node3.right = node7"
   ]
  },
  {
   "cell_type": "code",
   "execution_count": 5,
   "metadata": {},
   "outputs": [
    {
     "name": "stdout",
     "output_type": "stream",
     "text": [
      "강지 \n",
      "칸나 유니 \n",
      "히나 타비 리제 마시로 "
     ]
    }
   ],
   "source": [
    "print(node1.data, end = ' ')\n",
    "print()\n",
    "print(node1.left.data, node1.right.data, end = ' ')\n",
    "print()\n",
    "print(node1.left.left.data, node1.left.right.data, node1.right.left.data, node1.right.right.data, end = ' ')"
   ]
  },
  {
   "cell_type": "markdown",
   "metadata": {},
   "source": [
    "#### 이진 트리 순회\n",
    "- 노드를 한번씩 방문해서 전체를 다 도는 것 - 순회(Traversal)\n",
    "    - 전위 순회(preorder) - 노드, 왼쪽, 오른쪽 진행\n",
    "    - 중위 순회(inorder) - 왼쪽, 노드, 오른쪽 진행\n",
    "    - 후위 순회(postorder)- 왼쪽, 오른쪽, 노드 진행"
   ]
  },
  {
   "cell_type": "code",
   "execution_count": 9,
   "metadata": {},
   "outputs": [
    {
     "name": "stdout",
     "output_type": "stream",
     "text": [
      "강지->칸나->히나->타비->유니->리제->마시로->"
     ]
    }
   ],
   "source": [
    "# 전위순회 함수 정의\n",
    "def preorder(node): # 루트노드를 파라미터로\n",
    "    if node == None:\n",
    "        return\n",
    "    print(node.data, end = '->')\n",
    "    preorder(node.left)    # 재귀호출(Recursive call)\n",
    "    preorder(node.right)    # 재귀호출\n",
    "\n",
    "# 함수호출\n",
    "preorder(node1)"
   ]
  },
  {
   "cell_type": "code",
   "execution_count": 13,
   "metadata": {},
   "outputs": [
    {
     "name": "stdout",
     "output_type": "stream",
     "text": [
      "히나->칸나->타비->강지->리제->유니->마시로->"
     ]
    }
   ],
   "source": [
    "# 중위순회 함수 정의\n",
    "def inorder(node):\n",
    "    if node is None: return\n",
    "    inorder(node.left)\n",
    "    print(node.data, end = '->')\n",
    "    inorder(node.right)\n",
    "\n",
    "# 함수호출\n",
    "inorder(node1)"
   ]
  },
  {
   "cell_type": "code",
   "execution_count": 17,
   "metadata": {},
   "outputs": [
    {
     "name": "stdout",
     "output_type": "stream",
     "text": [
      "히나->타비->칸나->리제->마시로->유니->강지->"
     ]
    }
   ],
   "source": [
    "# 후위순회 함수 정의\n",
    "def postorder(node):\n",
    "    if node is None : return\n",
    "\n",
    "    postorder(node.left)\n",
    "    postorder(node.right)\n",
    "    print(node.data, end = '->')\n",
    "\n",
    "postorder(node1)"
   ]
  },
  {
   "cell_type": "markdown",
   "metadata": {},
   "source": [
    "#### 이진트리 사용예\n",
    "- 탐색, 정렬\n",
    "- 우선순위 큐 및 힙(OS 메모리쪽)\n",
    "- 다익스트라 최단거리 경로 알고리즘\n",
    "- 수식 표현식(사람이 보는 수식과 컴퓨터가 계산하는 수식의 차이)\n",
    "- 허프만 트리(압축 알고리즘)\n",
    "- DB 인덱싱(!)\n",
    "- 머신러닝, 의사결정 트리"
   ]
  }
 ],
 "metadata": {
  "kernelspec": {
   "display_name": "Python 3",
   "language": "python",
   "name": "python3"
  },
  "language_info": {
   "codemirror_mode": {
    "name": "ipython",
    "version": 3
   },
   "file_extension": ".py",
   "mimetype": "text/x-python",
   "name": "python",
   "nbconvert_exporter": "python",
   "pygments_lexer": "ipython3",
   "version": "3.11.9"
  }
 },
 "nbformat": 4,
 "nbformat_minor": 2
}
