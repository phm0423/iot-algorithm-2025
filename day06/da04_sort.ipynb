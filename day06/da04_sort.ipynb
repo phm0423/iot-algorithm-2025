{
 "cells": [
  {
   "cell_type": "markdown",
   "metadata": {},
   "source": [
    "### 정렬 Sort\n",
    "\n",
    "<img src='https://upload.wikimedia.org/wikipedia/commons/thumb/8/8e/Merge_sort_animation.gif/220px-Merge_sort_animation.gif'\n",
    "width = '400'>\n",
    "\n",
    "- 여러 데이터를 작은 값부터 큰 순으로 또는 큰 값부터 작은 순으로 순서에 맞게 정리하는 것\n",
    "    - 오름차순(Ascending sort)\n",
    "    - 내림차순(Descending sort)\n",
    "\n",
    "<!-- 표만들때 :--(왼쪽정렬) --:(오른쪽정렬) :--:(중앙정렬)-->\n",
    "|종류|평균|최선|최악|\n",
    "|:--|:--:|--:|:--:|\n",
    "|선택정렬|$O(n^2)$|$O(n^2)$|$O(n^2)$|\n",
    "|삽입정렬|$O(n^2)$|$O(n^2)$|$O(n^2)$|\n",
    "|버블정렬|$O(n^2)$|$O(n)$|$O(n^2)$|\n",
    "|퀵정렬|$O(n log n)$|$O(n log n)$|$O(n^2)$|\n",
    "|합병|$O(n log n)$|$O(n log n)$|$O(n log n)$|\n",
    "|힙|$O(n log n)$|$O(n log n)$|$O(n log n)$|\n",
    "|쉘|$O(n^{1.25})$|$O(n^{1.25})$|$O(n^{1.25})$|\n",
    "|기수|$O(dn)$|$O(dn)$|$O(dn)$|"
   ]
  },
  {
   "cell_type": "markdown",
   "metadata": {},
   "source": [
    "#### 선택정렬\n",
    "\n",
    "- 여러 데이터중 가장 작은 값을 뽑는 과정을 반복하여 정렬하는 방식"
   ]
  },
  {
   "cell_type": "code",
   "execution_count": 4,
   "metadata": {},
   "outputs": [],
   "source": [
    "def findMinIdx(ary):\n",
    "    minIdx = 0  # 맨 처음 값을 최소라고 가정\n",
    "    for i in range(1, len(ary)):\n",
    "        if ary[minIdx] > ary[i] : \n",
    "            minIdx = i\n",
    "    return minIdx"
   ]
  },
  {
   "cell_type": "code",
   "execution_count": 5,
   "metadata": {},
   "outputs": [
    {
     "name": "stdout",
     "output_type": "stream",
     "text": [
      "최솟값 인덱스 : 2\n",
      "최소값 : 22\n"
     ]
    }
   ],
   "source": [
    "testAry = [55, 88, 22, 33, 77]\n",
    "minPos = findMinIdx(testAry)\n",
    "\n",
    "print(f'최솟값 인덱스 : {minPos}')\n",
    "print(f'최소값 : {testAry[minPos]}')"
   ]
  },
  {
   "cell_type": "code",
   "execution_count": 6,
   "metadata": {},
   "outputs": [
    {
     "name": "stdout",
     "output_type": "stream",
     "text": [
      "정렬전 -> :[188, 162, 168, 120, 50, 150, 177, 105]\n",
      "정렬후 -> [50, 105, 120, 150, 162, 168, 177, 188]\n"
     ]
    }
   ],
   "source": [
    "## 변수 선언\n",
    "before = [188, 162, 168, 120, 50, 150, 177, 105]\n",
    "after = []\n",
    "\n",
    "## 메인 코드\n",
    "print(f'정렬전 -> :{before}')\n",
    "\n",
    "for _ in range(len(before)):    # 8번\n",
    "    minPos = findMinIdx(before)\n",
    "    after.append(before[minPos])\n",
    "    del(before[minPos])\n",
    "\n",
    "print(f'정렬후 -> {after}')\n",
    "    "
   ]
  },
  {
   "cell_type": "markdown",
   "metadata": {},
   "source": [
    "#### 데이터 교환에서 가장 중요한 swap\n",
    "- 변수가 두 개 있을 때 하나의 값을 다른곳으로 할당하려면 임시변수가 필요\n",
    "\n",
    "```python\n",
    "def swap(x, y):\n",
    "    temp = x\n",
    "    x = y\n",
    "    y = temp\n",
    "```"
   ]
  },
  {
   "cell_type": "markdown",
   "metadata": {},
   "source": [
    "- 변수 하나로 선택정렬"
   ]
  },
  {
   "cell_type": "code",
   "execution_count": 7,
   "metadata": {},
   "outputs": [
    {
     "name": "stdout",
     "output_type": "stream",
     "text": [
      "정렬전 -> [188, 162, 168, 120, 50, 150, 177, 105]\n",
      "정렬중 => [50, 162, 168, 120, 188, 150, 177, 105]\n",
      "정렬중 => [50, 105, 168, 120, 188, 150, 177, 162]\n",
      "정렬중 => [50, 105, 120, 168, 188, 150, 177, 162]\n",
      "정렬중 => [50, 105, 120, 150, 188, 168, 177, 162]\n",
      "정렬중 => [50, 105, 120, 150, 162, 168, 177, 188]\n",
      "정렬중 => [50, 105, 120, 150, 162, 168, 177, 188]\n",
      "정렬중 => [50, 105, 120, 150, 162, 168, 177, 188]\n",
      "중복처리 횟수 = 16\n",
      "정렬후 -> [50, 105, 120, 150, 162, 168, 177, 188]\n"
     ]
    }
   ],
   "source": [
    "def sortSelection(ary):\n",
    "    count = 0\n",
    "    n= len(ary)\n",
    "    for i in range(0, n-1):\n",
    "        minIdx = i\n",
    "        for j in range(i+1, n):\n",
    "            if ary[minIdx] > ary[j]:\n",
    "                minIdx = j\n",
    "                count += 1\n",
    "            \n",
    "\n",
    "        tmp = ary[i]\n",
    "        ary[i] = ary[minIdx]\n",
    "        ary[minIdx] = tmp\n",
    "    \n",
    "        print(f'정렬중 => {ary}')\n",
    "        count += 1\n",
    "    print(f'중복처리 횟수 = {count}')\n",
    "    return ary\n",
    "\n",
    "\n",
    "dataAry=[188, 162, 168, 120, 50, 150, 177, 105]\n",
    "\n",
    "print(f'정렬전 -> {dataAry}')\n",
    "dataAry = sortSelection(dataAry)\n",
    "print(f'정렬후 -> {dataAry}')"
   ]
  },
  {
   "cell_type": "markdown",
   "metadata": {},
   "source": [
    "#### 삽입정렬\n",
    "- 기존 데이터 중에서 자신의 위치를 찾아 데이터를 삽입하는 정렬 방식"
   ]
  },
  {
   "cell_type": "markdown",
   "metadata": {},
   "source": [
    "- 삽입될 위치를 찾는 함수"
   ]
  },
  {
   "cell_type": "code",
   "execution_count": 8,
   "metadata": {},
   "outputs": [],
   "source": [
    "def findInsertIdx(ary, data):\n",
    "    findIdx = -1    # 배열의 인덱스 앞(인덱스 0보다 앞을 의미)\n",
    "    for i in range(0, len(ary)):\n",
    "        if ary[i] > data:\n",
    "            findIdx = i\n",
    "            break\n",
    "    if findIdx == -1:   # 큰값을 못찾음. 제일 마지막 위치\n",
    "        return len(ary)\n",
    "    else:\n",
    "        return findIdx"
   ]
  },
  {
   "cell_type": "code",
   "execution_count": 9,
   "metadata": {},
   "outputs": [
    {
     "name": "stdout",
     "output_type": "stream",
     "text": [
      "삽입위치 인덱스 -> 4\n"
     ]
    }
   ],
   "source": [
    "testAry = [33, 55, 77, 88]\n",
    "print(f'삽입위치 인덱스 -> {findInsertIdx(testAry, 100)}')"
   ]
  },
  {
   "cell_type": "markdown",
   "metadata": {},
   "source": [
    "- 삽입정렬 구현"
   ]
  },
  {
   "cell_type": "code",
   "execution_count": 10,
   "metadata": {},
   "outputs": [
    {
     "name": "stdout",
     "output_type": "stream",
     "text": [
      "정렬 전 - > [188, 162, 168, 120, 50, 150, 177, 105]\n",
      "정렬 중 => [188]\n",
      "정렬 중 => [162, 188]\n",
      "정렬 중 => [162, 168, 188]\n",
      "정렬 중 => [120, 162, 168, 188]\n",
      "정렬 중 => [50, 120, 162, 168, 188]\n",
      "정렬 중 => [50, 120, 150, 162, 168, 188]\n",
      "정렬 중 => [50, 120, 150, 162, 168, 177, 188]\n",
      "정렬 중 => [50, 105, 120, 150, 162, 168, 177, 188]\n",
      "정렬 후 -> [50, 105, 120, 150, 162, 168, 177, 188]\n"
     ]
    }
   ],
   "source": [
    "# 변수\n",
    "before = [188, 162, 168, 120, 50, 150, 177, 105]\n",
    "after = []\n",
    "\n",
    "\n",
    "# 메인코드\n",
    "print(f'정렬 전 - > {before}')\n",
    "for i in range(len(before)):\n",
    "    data = before[i]\n",
    "    insPos = findInsertIdx(after, data)\n",
    "    after.insert(insPos, data)\n",
    "    print(f'정렬 중 => {after}')\n",
    "\n",
    "print(f'정렬 후 -> {after}')"
   ]
  },
  {
   "cell_type": "markdown",
   "metadata": {},
   "source": [
    "- 변수 하나로 삽입정렬"
   ]
  },
  {
   "cell_type": "code",
   "execution_count": 11,
   "metadata": {},
   "outputs": [
    {
     "name": "stdout",
     "output_type": "stream",
     "text": [
      "정렬 전 -> [188, 162, 168, 120, 50, 150, 177, 105]\n",
      "정렬 중 => [162, 188, 168, 120, 50, 150, 177, 105]\n",
      "정렬 중 => [162, 168, 188, 120, 50, 150, 177, 105]\n",
      "정렬 중 => [120, 162, 168, 188, 50, 150, 177, 105]\n",
      "정렬 중 => [50, 120, 162, 168, 188, 150, 177, 105]\n",
      "정렬 중 => [50, 120, 150, 162, 168, 188, 177, 105]\n",
      "정렬 중 => [50, 120, 150, 162, 168, 177, 188, 105]\n",
      "정렬 중 => [50, 105, 120, 150, 162, 168, 177, 188]\n",
      "정렬 후 -> [50, 105, 120, 150, 162, 168, 177, 188]\n"
     ]
    }
   ],
   "source": [
    "def sortInsertion(ary):\n",
    "    n = len(ary)\n",
    "    for end in range(1, n): # end -> 1....n-1\n",
    "        for cur in range(end, 0, -1):    # cur -> 거꾸로\n",
    "            if ary[cur - 1] > ary[cur]:\n",
    "                # temp = ary[cur]\n",
    "                # ary[cur] = ary[cur - 1]\n",
    "                # ary[cur - 1] = temp\n",
    "                # tmp변수를 안만들고 바로 변경할 수 있는 로직(파이썬에 존재, C는 없음)\n",
    "                ary[cur - 1], ary[cur] = ary[cur], ary[cur - 1]\n",
    "        print(f'정렬 중 => {ary}')\n",
    "\n",
    "    return ary\n",
    "\n",
    "dataAry = [188, 162, 168, 120, 50, 150, 177, 105]\n",
    "\n",
    "# 메인코드\n",
    "print(f'정렬 전 -> {dataAry}')\n",
    "dataAry = sortInsertion(dataAry)\n",
    "print(f'정렬 후 -> {dataAry}')\n"
   ]
  },
  {
   "cell_type": "markdown",
   "metadata": {},
   "source": [
    "#### 버블 정렬\n",
    "\n",
    "- 앞뒤 데이터를 비교해서 큰 값을 뒤로 보내면서 정렬하는 방식\n",
    "- 거품처럼 생겼다고 버블 정렬"
   ]
  },
  {
   "cell_type": "code",
   "execution_count": 12,
   "metadata": {},
   "outputs": [],
   "source": [
    "import random"
   ]
  },
  {
   "cell_type": "code",
   "execution_count": 13,
   "metadata": {},
   "outputs": [
    {
     "name": "stdout",
     "output_type": "stream",
     "text": [
      "정렬 전 -> [162, 78, 121, 82, 91, 176, 172, 140, 163, 171, 104, 100, 61, 56]\n",
      "정렬 중 -> [78, 121, 82, 91, 162, 172, 140, 163, 171, 104, 100, 61, 56, 176]\n",
      "정렬 중 -> [78, 82, 91, 121, 162, 140, 163, 171, 104, 100, 61, 56, 172, 176]\n",
      "정렬 중 -> [78, 82, 91, 121, 140, 162, 163, 104, 100, 61, 56, 171, 172, 176]\n",
      "정렬 중 -> [78, 82, 91, 121, 140, 162, 104, 100, 61, 56, 163, 171, 172, 176]\n",
      "정렬 중 -> [78, 82, 91, 121, 140, 104, 100, 61, 56, 162, 163, 171, 172, 176]\n",
      "정렬 중 -> [78, 82, 91, 121, 104, 100, 61, 56, 140, 162, 163, 171, 172, 176]\n",
      "정렬 중 -> [78, 82, 91, 104, 100, 61, 56, 121, 140, 162, 163, 171, 172, 176]\n",
      "정렬 중 -> [78, 82, 91, 100, 61, 56, 104, 121, 140, 162, 163, 171, 172, 176]\n",
      "정렬 중 -> [78, 82, 91, 61, 56, 100, 104, 121, 140, 162, 163, 171, 172, 176]\n",
      "정렬 중 -> [78, 82, 61, 56, 91, 100, 104, 121, 140, 162, 163, 171, 172, 176]\n",
      "정렬 중 -> [78, 61, 56, 82, 91, 100, 104, 121, 140, 162, 163, 171, 172, 176]\n",
      "정렬 중 -> [61, 56, 78, 82, 91, 100, 104, 121, 140, 162, 163, 171, 172, 176]\n",
      "정렬 중 -> [56, 61, 78, 82, 91, 100, 104, 121, 140, 162, 163, 171, 172, 176]\n",
      "처리횟수 67\n",
      "정렬 후 -> [56, 61, 78, 82, 91, 100, 104, 121, 140, 162, 163, 171, 172, 176]\n"
     ]
    }
   ],
   "source": [
    "# 함수 정의\n",
    "def sortBubble(ary):\n",
    "    count = 0 \n",
    "    n = len(ary)\n",
    "    for end in range(n-1, 0, -1):   # 거꾸로\n",
    "        for cur in range(0, end):\n",
    "            if ary[cur] > ary [cur + 1]:\n",
    "                ary[cur], ary[cur + 1] = ary[cur + 1], ary[cur] # swap 기능을 포함\n",
    "                count += 1\n",
    "\n",
    "        print(f'정렬 중 -> {dataAry}')\n",
    "        count += 1\n",
    "    print(f'처리횟수 {count}')\n",
    "    return ary\n",
    "\n",
    "# dataAry = [188, 162, 168, 120, 50, 150, 177, 105]\n",
    "dataAry = [random.randint(50, 190) for _ in range(random.randint(8, 20))]\n",
    "\n",
    "print(f'정렬 전 -> {dataAry}')\n",
    "dataAry = sortBubble(dataAry)\n",
    "print(f'정렬 후 -> {dataAry}')"
   ]
  },
  {
   "cell_type": "markdown",
   "metadata": {},
   "source": [
    "##### 버블 정렬 중\n",
    "- 데이터가 거의 정렬이 되고, 한 두개가 데이터과 튀었을 때 개선방법\n",
    "- 한 사이클을 마쳤을 때 모두 정렬이 되면 더이상 반복문을 처리않고 탈출"
   ]
  },
  {
   "cell_type": "code",
   "execution_count": 14,
   "metadata": {},
   "outputs": [
    {
     "name": "stdout",
     "output_type": "stream",
     "text": [
      "정렬 전 -> [50, 105, 120, 188, 150, 162, 168, 177]\n",
      "정렬 중 => [50, 105, 120, 150, 162, 168, 177, 188]\n",
      "정렬 중 => [50, 105, 120, 150, 162, 168, 177, 188]\n",
      "정렬 후 -> [50, 105, 120, 150, 162, 168, 177, 188]\n"
     ]
    }
   ],
   "source": [
    "## 버블소트 개선함수\n",
    "def sortBubbleA(ary):\n",
    "    n = len(ary)\n",
    "\n",
    "    for end in range(n-1, 0, -1):\n",
    "        changeYn = False\n",
    "        for cur in range(0, end):\n",
    "            if ary[cur] > ary[cur+1]:\n",
    "                ary[cur], ary[cur+1] = ary[cur+1], ary[cur]\n",
    "                changeYn = True # 값이 바뀜\n",
    "        print(f'정렬 중 => {ary}')\n",
    "\n",
    "        if not changeYn:\n",
    "            break\n",
    "    return ary\n",
    "\n",
    "dataAry = [50, 105, 120, 188, 150, 162, 168, 177]\n",
    "\n",
    "print(f'정렬 전 -> {dataAry}')\n",
    "dataAry = sortBubbleA(dataAry)\n",
    "print(f'정렬 후 -> {dataAry}')"
   ]
  },
  {
   "cell_type": "markdown",
   "metadata": {},
   "source": [
    "- 다른 정렬은 데이터가 거의 정렬이 다 되어있어도 횟수만큼 동작 $0(n^2)$\n",
    "- 버블 정렬은 데이터가 거의 정렬되있으면 반복횟수를 줄일 수 있음 $0(n)$"
   ]
  },
  {
   "cell_type": "markdown",
   "metadata": {},
   "source": [
    "#### 퀵 정렬\n",
    "- 전체 데이터에서 기준값을 잡고, 기준값보다 작은 값은 왼쪽그룹으로, 큰값은 오른쪽 그룹을 나누는 작업을 반복해서 정렬하는 방식"
   ]
  },
  {
   "cell_type": "code",
   "execution_count": 25,
   "metadata": {},
   "outputs": [
    {
     "name": "stdout",
     "output_type": "stream",
     "text": [
      "정렬전 -> [188, 162, 168, 120, 50, 150, 177, 105]\n",
      "처리횟수 19\n",
      "정렬후 -> [50, 105, 120, 150, 162, 168, 177, 188]\n"
     ]
    }
   ],
   "source": [
    "# 함수정의\n",
    "count = 0\n",
    "\n",
    "def sortQuick(ary):\n",
    "    global count\n",
    "    n = len(ary)\n",
    "\n",
    "    if n <= 1:  # 정렬할 리스트 개수가 1개 이하면\n",
    "        return ary\n",
    "    \n",
    "    pivot = ary[n//2]   # 중간값을 기준값으로 설정\n",
    "    leftAry, rightAry = [], []\n",
    "\n",
    "    for num in ary:\n",
    "        if num < pivot: # 기준값보다 작으면 왼쪽그룹\n",
    "            leftAry.append(num)\n",
    "            count += 1\n",
    "        elif num > pivot:   # 오른쪽그룹\n",
    "            rightAry.append(num)\n",
    "            count += 1\n",
    "\n",
    "    return sortQuick(leftAry) + [pivot] + sortQuick(rightAry)   # 재귀호출\n",
    "\n",
    "# 변수\n",
    "dataAry = [188, 162, 168, 120, 50, 150, 177, 105]\n",
    "\n",
    "# 메인코드\n",
    "\n",
    "print(f'정렬전 -> {dataAry}')\n",
    "dataAry = sortQuick(dataAry)\n",
    "print(f'처리횟수 {count}')\n",
    "print(f'정렬후 -> {dataAry}')"
   ]
  },
  {
   "cell_type": "markdown",
   "metadata": {},
   "source": [
    "- 중복값을 고려한 퀵 정렬"
   ]
  },
  {
   "cell_type": "code",
   "execution_count": 28,
   "metadata": {},
   "outputs": [
    {
     "name": "stdout",
     "output_type": "stream",
     "text": [
      "정렬 전 -> [120, 120, 188, 150, 168, 50, 50, 162, 105, 120, 177, 50]\n",
      "정렬 후 -> [50, 50, 50, 105, 120, 120, 120, 150, 162, 168, 177, 188]\n"
     ]
    }
   ],
   "source": [
    "def sortQuick(ary):\n",
    "    n = len(ary)\n",
    "\n",
    "    if n <= 1:\n",
    "        return ary\n",
    "    \n",
    "    pivot = ary[n//2]\n",
    "    leftAry, midAry, rightAry = [], [], []\n",
    "\n",
    "    for num in ary:\n",
    "        if num < pivot:\n",
    "            leftAry.append(num)\n",
    "        elif num > pivot:\n",
    "            rightAry.append(num)\n",
    "        else:\n",
    "            midAry.append(num)\n",
    "\n",
    "    return sortQuick(leftAry) + midAry + sortQuick(rightAry)\n",
    "\n",
    "# 변수\n",
    "dataAry = [120, 120, 188, 150, 168, 50, 50, 162, 105, 120, 177, 50]\n",
    "\n",
    "print(f'정렬 전 -> {dataAry}')\n",
    "dataAry = sortQuick(dataAry)\n",
    "print(f'정렬 후 -> {dataAry}')"
   ]
  },
  {
   "cell_type": "markdown",
   "metadata": {},
   "source": [
    "- 퀵정렬 일반 구현"
   ]
  },
  {
   "cell_type": "code",
   "execution_count": 36,
   "metadata": {},
   "outputs": [
    {
     "name": "stdout",
     "output_type": "stream",
     "text": [
      "정렬 전 -> [188, 150, 168, 162, 105, 120, 177, 50]\n",
      "정렬 후 -> [50, 105, 120, 150, 162, 168, 177, 188]\n",
      "총 처리횟수 9\n"
     ]
    }
   ],
   "source": [
    "count = 0\n",
    "def sortQuickN(ary, start, end):\n",
    "    global count\n",
    "    if end <= start: return  # 재귀호출 종료 조건\n",
    "\n",
    "    low = start; high = end\n",
    "\n",
    "    pivot = ary[(low + high)//2] # 리스트 중간값을 기준값으로\n",
    "    while low <= high:\n",
    "        while ary[low] < pivot:\n",
    "            low += 1\n",
    "        while ary[high] > pivot:\n",
    "            high -= 1\n",
    "        if low <= high:\n",
    "            ary[low], ary[high] = ary[high], ary[low]\n",
    "            low, high = low+1, high-1\n",
    "            count += 1\n",
    "\n",
    "    # mid = low   # 모든 정렬을 한바퀴 돌면 low는 리스트 중간쯤 가있는다.\n",
    "\n",
    "    sortQuickN(ary, start, low -1)  # 왼쪽 그룹 다시 정렬(재귀호출)\n",
    "    sortQuickN(ary, low, end)       # 오른쪽 그룹 다시 정렬(재귀호출)\n",
    "\n",
    "# 변수\n",
    "dataAry = [188, 150, 168, 162, 105, 120, 177, 50]\n",
    "\n",
    "# 메인\n",
    "print(f'정렬 전 -> {dataAry}')\n",
    "sortQuickN(dataAry, 0, len(dataAry)-1)\n",
    "print(f'정렬 후 -> {dataAry}')\n",
    "print(f'총 처리횟수 {count}')"
   ]
  },
  {
   "cell_type": "markdown",
   "metadata": {},
   "source": [
    "##### 퀵정렬\n",
    "- 최악의 경우는 $O(n^2)$ 이나, 평균적으로 $O(n log n)$ 연산수 가짐\n",
    "- 만약 n 이 100만개일 경우\n",
    "    - 선택정렬, 삽입정렬 1,000,000,000,000(1조번) 처리해야\n",
    "    - 퀵정렬은, 약 2000만번 처리(1/50,000로 처리양이 축소)"
   ]
  },
  {
   "cell_type": "markdown",
   "metadata": {},
   "source": [
    "#### 정렬 응용예\n",
    "- 이진 탐색(Binary search)[이진 트리사용] 검색알고리즘에서 활용\n",
    "- 데이터 분석 : 최소값, 최대값, 중앙값, 분위수 계산시 사용\n",
    "- 데이터베이스 SQL문 : ORDER BY 사용시 내림차순, 오름차순 사용\n",
    "- 파일 정리, 로그 정리\n",
    "- 그래픽 이미지처리 : 이미지 픽셀 밝기 순 정렬, 히스토그램 생성\n",
    "- 네트워크 패킷 처리\n",
    "- 인공지능 머신러닝 : KNN 정렬사용\n",
    "- 쇼핑몰 : 가격별(저렴한 순, 비싼 순) 정렬"
   ]
  }
 ],
 "metadata": {
  "kernelspec": {
   "display_name": "Python 3",
   "language": "python",
   "name": "python3"
  },
  "language_info": {
   "codemirror_mode": {
    "name": "ipython",
    "version": 3
   },
   "file_extension": ".py",
   "mimetype": "text/x-python",
   "name": "python",
   "nbconvert_exporter": "python",
   "pygments_lexer": "ipython3",
   "version": "3.11.9"
  }
 },
 "nbformat": 4,
 "nbformat_minor": 2
}
